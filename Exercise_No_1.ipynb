{
  "nbformat": 4,
  "nbformat_minor": 0,
  "metadata": {
    "colab": {
      "provenance": [],
      "authorship_tag": "ABX9TyP7DoKkNppJ3cKhC2NxknBv",
      "include_colab_link": true
    },
    "kernelspec": {
      "name": "python3",
      "display_name": "Python 3"
    },
    "language_info": {
      "name": "python"
    }
  },
  "cells": [
    {
      "cell_type": "markdown",
      "metadata": {
        "id": "view-in-github",
        "colab_type": "text"
      },
      "source": [
        "<a href=\"https://colab.research.google.com/github/LeeIvanTitong/VDA-CpE-031-CpE21S4/blob/main/Exercise_No_1.ipynb\" target=\"_parent\"><img src=\"https://colab.research.google.com/assets/colab-badge.svg\" alt=\"Open In Colab\"/></a>"
      ]
    },
    {
      "cell_type": "markdown",
      "source": [
        "# **1). Variables and Data Types**\n",
        "\n",
        "\n",
        "\n",
        "\n"
      ],
      "metadata": {
        "id": "ybJGrzXC3Mlp"
      }
    },
    {
      "cell_type": "code",
      "source": [
        "#Numbers\n",
        "vartium = 123\n",
        "pi = 3.14159\n"
      ],
      "metadata": {
        "id": "j5JPgp716C75"
      },
      "execution_count": null,
      "outputs": []
    },
    {
      "cell_type": "code",
      "source": [
        "#Numbers\n",
        "vartium = 123\n",
        "pi = 3.14159"
      ],
      "metadata": {
        "id": "2Qg94BUZDUfl"
      },
      "execution_count": null,
      "outputs": []
    },
    {
      "cell_type": "code",
      "source": [
        "#Strings\n",
        "varString = \"Hello World!\"\n",
        "varText = 'This is a String'\n"
      ],
      "metadata": {
        "id": "zuER7bFh8x-g"
      },
      "execution_count": null,
      "outputs": []
    },
    {
      "cell_type": "code",
      "source": [
        "#Lists\n",
        "varList=[\"abc\",123]"
      ],
      "metadata": {
        "id": "wPlkn9F69GsY"
      },
      "execution_count": null,
      "outputs": []
    },
    {
      "cell_type": "code",
      "source": [
        "#Tuples\n",
        "varTuple = 'abc',123,\"HELLO\""
      ],
      "metadata": {
        "id": "SQXVoEFs-wxQ"
      },
      "execution_count": null,
      "outputs": []
    },
    {
      "cell_type": "code",
      "source": [
        "#Dictionaries\n",
        "var=3\n",
        "varDict = {'first':1,'2':'2nd',3:var}\n"
      ],
      "metadata": {
        "id": "aURoXuDK-yg3"
      },
      "execution_count": null,
      "outputs": []
    },
    {
      "cell_type": "code",
      "source": [
        "varDict ={}\n",
        "varDict['first'] = 1\n",
        "varDict['2'] = '2nd'\n",
        "varDict[3] = var"
      ],
      "metadata": {
        "id": "pe7Sgnc5D07G"
      },
      "execution_count": null,
      "outputs": []
    },
    {
      "cell_type": "markdown",
      "source": [
        "# **2). Arithmethic**\n",
        "\n"
      ],
      "metadata": {
        "id": "2UvIXwDk5te4"
      }
    },
    {
      "cell_type": "code",
      "source": [
        "#Addition\n",
        "a = 5 + 3\n",
        "print(a)"
      ],
      "metadata": {
        "id": "OEr6Vd-n-1uA",
        "colab": {
          "base_uri": "https://localhost:8080/"
        },
        "outputId": "96ae99e8-bc8c-41ce-865c-90d06cfabfdf"
      },
      "execution_count": null,
      "outputs": [
        {
          "output_type": "stream",
          "name": "stdout",
          "text": [
            "8\n"
          ]
        }
      ]
    },
    {
      "cell_type": "code",
      "source": [
        "#Subtraction\n",
        "a= 5 - 3\n",
        "print(a)\n"
      ],
      "metadata": {
        "id": "b7255SGW-2ro",
        "colab": {
          "base_uri": "https://localhost:8080/"
        },
        "outputId": "ff83b3af-d236-4de1-ca53-7d930a814d19"
      },
      "execution_count": null,
      "outputs": [
        {
          "output_type": "stream",
          "name": "stdout",
          "text": [
            "2\n"
          ]
        }
      ]
    },
    {
      "cell_type": "code",
      "source": [
        "#Multiplication\n",
        "a = 5 * 3\n",
        "print(a)"
      ],
      "metadata": {
        "id": "ZacgO4a0-3a_",
        "colab": {
          "base_uri": "https://localhost:8080/"
        },
        "outputId": "242467b9-4dbc-4091-ee11-13ce753ae816"
      },
      "execution_count": null,
      "outputs": [
        {
          "output_type": "stream",
          "name": "stdout",
          "text": [
            "15\n"
          ]
        }
      ]
    },
    {
      "cell_type": "code",
      "source": [
        "#Division\n",
        "a = 5 / 3\n",
        "print(a)\n"
      ],
      "metadata": {
        "id": "3X7-hpTu-4J3",
        "colab": {
          "base_uri": "https://localhost:8080/"
        },
        "outputId": "0f42a10e-a16b-4fb4-c0a0-696d1e6e800d"
      },
      "execution_count": null,
      "outputs": [
        {
          "output_type": "stream",
          "name": "stdout",
          "text": [
            "1.6666666666666667\n"
          ]
        }
      ]
    },
    {
      "cell_type": "code",
      "source": [
        "#Modulus\n",
        "a = 5 % 3\n",
        "print(a)\n"
      ],
      "metadata": {
        "id": "5APVLmIx-443"
      },
      "execution_count": null,
      "outputs": []
    },
    {
      "cell_type": "code",
      "source": [
        "#Increment/Decrement\n",
        "a = 5\n",
        "a += 1\n",
        "print(a)\n",
        "\n",
        "a = 5\n",
        "a -= 1\n",
        "print(a)\n",
        "\n",
        "a = 5\n",
        "a *= 2\n",
        "print(a)\n",
        "\n",
        "a = 5\n",
        "a /= 2\n",
        "print(a)"
      ],
      "metadata": {
        "id": "UIdVkp4q-6Ew"
      },
      "execution_count": null,
      "outputs": []
    },
    {
      "cell_type": "code",
      "source": [
        "#Decrement\n",
        "a=5\n",
        "a -= 1\n",
        "print(a)"
      ],
      "metadata": {
        "id": "oiR4N7nA-7o4"
      },
      "execution_count": null,
      "outputs": []
    },
    {
      "cell_type": "code",
      "source": [
        "#String Concatenation\n",
        "a='Hello' + ' ' + 'World'\n"
      ],
      "metadata": {
        "id": "nTaQgrj__FnX"
      },
      "execution_count": null,
      "outputs": []
    },
    {
      "cell_type": "code",
      "source": [
        "#Complex Expressions\n",
        "a=3+5-6*2/4"
      ],
      "metadata": {
        "id": "zxMhk6N1_JDI"
      },
      "execution_count": null,
      "outputs": []
    },
    {
      "cell_type": "markdown",
      "source": [
        "# **3). Conditional Statements**"
      ],
      "metadata": {
        "id": "SypcUDCK7WPI"
      }
    },
    {
      "cell_type": "code",
      "source": [
        "#Boolean Conditions\n",
        "x=True\n",
        "y=False"
      ],
      "metadata": {
        "id": "lsNTVcQT_oPg"
      },
      "execution_count": null,
      "outputs": []
    },
    {
      "cell_type": "code",
      "source": [
        "#If Statement\n",
        "if x:\n",
        "  print(\"x is True\")\n"
      ],
      "metadata": {
        "id": "Nw24XSan_plo"
      },
      "execution_count": null,
      "outputs": []
    },
    {
      "cell_type": "code",
      "source": [
        "#If Else Statement\n",
        "if x:\n",
        "  print(\"x is True\")\n",
        "else:\n",
        "  print(\"x is False\")"
      ],
      "metadata": {
        "id": "Mrs45NSQ_qen"
      },
      "execution_count": null,
      "outputs": []
    },
    {
      "cell_type": "code",
      "source": [
        "#String Conditions\n",
        "x = \"Hello World\"\n",
        "if \"Hello\" in x:\n",
        "  print(\"Hello is in x\")\n",
        "else:\n",
        "  print(\"Hello is not in x\")\n"
      ],
      "metadata": {
        "id": "5agGtSW7_rng"
      },
      "execution_count": null,
      "outputs": []
    },
    {
      "cell_type": "code",
      "source": [
        "#Numerical Conditions\n",
        "x = 5\n",
        "if x == 5:\n",
        "  print(\"x is 5\")\n",
        "else:\n",
        "  print(\"x is not 5\")"
      ],
      "metadata": {
        "id": "Kexop1zh_umH"
      },
      "execution_count": null,
      "outputs": []
    },
    {
      "cell_type": "code",
      "source": [
        "#Multiple Conditions\n",
        "x = 5\n",
        "y = 10\n",
        "if x == 5 and y == 10:\n",
        "  print(\"x is 5 and y is 10\")\n",
        "else:\n",
        "  print(\"x is not 5 or y is not 10\")"
      ],
      "metadata": {
        "id": "FGC2vgpg_xB_"
      },
      "execution_count": null,
      "outputs": []
    },
    {
      "cell_type": "markdown",
      "source": [
        "# **4).Loops**"
      ],
      "metadata": {
        "id": "z4UYthA99jvo"
      }
    },
    {
      "cell_type": "code",
      "source": [
        "# prompt: #For loops\n",
        "\n",
        "#For loops\n",
        "for i in range(5):\n",
        "  print(i)\n",
        "\n",
        "#Looping through a list\n",
        "fruits = [\"apple\", \"banana\", \"cherry\"]\n",
        "for fruit in fruits:\n",
        "  print(fruit)\n",
        "\n",
        "#Nested loops\n",
        "for i in range(3):\n",
        "  for j in range(2):\n",
        "    print(i, j)\n",
        "\n",
        "#Loop control statements\n",
        "for i in range(10):\n",
        "  if i == 5:\n",
        "    break\n",
        "  print(i)\n",
        "\n",
        "for i in range(10):\n",
        "  if i == 5:\n",
        "    continue\n",
        "  print(i)\n"
      ],
      "metadata": {
        "id": "XGr2XhdY9q-g"
      },
      "execution_count": null,
      "outputs": []
    },
    {
      "cell_type": "code",
      "source": [
        "#For Loops\n",
        "for var in range(0,5,2):\n",
        "  print(var)"
      ],
      "metadata": {
        "colab": {
          "base_uri": "https://localhost:8080/"
        },
        "collapsed": true,
        "id": "ZHeo5c9991wC",
        "outputId": "657adaeb-f456-491d-afde-c5b0df4a10e7"
      },
      "execution_count": null,
      "outputs": [
        {
          "output_type": "stream",
          "name": "stdout",
          "text": [
            "0\n",
            "2\n",
            "4\n"
          ]
        }
      ]
    },
    {
      "cell_type": "code",
      "source": [
        "#While Loops\n",
        "var = 0\n",
        "while var < 5:\n",
        "  print(var)\n",
        "  var += 2"
      ],
      "metadata": {
        "colab": {
          "base_uri": "https://localhost:8080/"
        },
        "collapsed": true,
        "id": "ujdKGP_n-BtQ",
        "outputId": "4d046fcb-caef-4e29-c518-5e00e089d043"
      },
      "execution_count": null,
      "outputs": [
        {
          "output_type": "stream",
          "name": "stdout",
          "text": [
            "0\n",
            "2\n",
            "4\n"
          ]
        }
      ]
    },
    {
      "cell_type": "code",
      "source": [
        "#Nested Loops Generated\n",
        "x=0\n",
        "while x<5:\n",
        "  y=0\n",
        "  while y<5:\n",
        "    print(x,y)\n",
        "    y+=1\n",
        "  x+=1\n"
      ],
      "metadata": {
        "colab": {
          "base_uri": "https://localhost:8080/"
        },
        "collapsed": true,
        "id": "SbWT5iqy-IZh",
        "outputId": "198dc812-074e-4f5f-b043-c5f2811934be"
      },
      "execution_count": null,
      "outputs": [
        {
          "output_type": "stream",
          "name": "stdout",
          "text": [
            "0 0\n",
            "0 1\n",
            "0 2\n",
            "0 3\n",
            "0 4\n",
            "1 0\n",
            "1 1\n",
            "1 2\n",
            "1 3\n",
            "1 4\n",
            "2 0\n",
            "2 1\n",
            "2 2\n",
            "2 3\n",
            "2 4\n",
            "3 0\n",
            "3 1\n",
            "3 2\n",
            "3 3\n",
            "3 4\n",
            "4 0\n",
            "4 1\n",
            "4 2\n",
            "4 3\n",
            "4 4\n"
          ]
        }
      ]
    },
    {
      "cell_type": "code",
      "source": [
        "from re import X\n",
        "#Nested Loops\n",
        "x=0\n",
        "while x<5:\n",
        "  for y in range(0,x):\n",
        "    print(y, end='')\n",
        "  x+=1\n",
        "  print()\n",
        "  x+=1"
      ],
      "metadata": {
        "colab": {
          "base_uri": "https://localhost:8080/"
        },
        "collapsed": true,
        "id": "4vIK0zLz-TFn",
        "outputId": "a6906b95-bcf7-4e83-a478-598e1b357cdd"
      },
      "execution_count": null,
      "outputs": [
        {
          "output_type": "stream",
          "name": "stdout",
          "text": [
            "\n",
            "01\n",
            "0123\n"
          ]
        }
      ]
    },
    {
      "cell_type": "markdown",
      "source": [
        "# **5). Tuples**"
      ],
      "metadata": {
        "id": "rVbf0ukiGUbm"
      }
    },
    {
      "cell_type": "markdown",
      "source": [
        "#**6).Lists**"
      ],
      "metadata": {
        "id": "hIPVp7f6Advv"
      }
    },
    {
      "cell_type": "code",
      "source": [
        "pi = 3.14159\n",
        "varList = [1,2,'A','B','Hello',pi]\n",
        "print(varList[0])\n"
      ],
      "metadata": {
        "colab": {
          "base_uri": "https://localhost:8080/"
        },
        "id": "ii-NWO-AAucf",
        "outputId": "a7b46e5a-1c95-46e0-ade1-fc2f79bc70fc"
      },
      "execution_count": null,
      "outputs": [
        {
          "output_type": "stream",
          "name": "stdout",
          "text": [
            "1\n"
          ]
        }
      ]
    },
    {
      "cell_type": "code",
      "source": [
        "print(varList[4])"
      ],
      "metadata": {
        "colab": {
          "base_uri": "https://localhost:8080/"
        },
        "id": "v3fZfzuyBRgv",
        "outputId": "cd213215-c23d-430c-fb58-8fd9a9901734"
      },
      "execution_count": null,
      "outputs": [
        {
          "output_type": "stream",
          "name": "stdout",
          "text": [
            "Hello\n"
          ]
        }
      ]
    },
    {
      "cell_type": "code",
      "source": [
        "varList.append('World')\n",
        "print(varList[6])"
      ],
      "metadata": {
        "colab": {
          "base_uri": "https://localhost:8080/"
        },
        "id": "OyKSiYM7B4Nf",
        "outputId": "3c1dd566-0177-47d5-a487-859d6636d736"
      },
      "execution_count": null,
      "outputs": [
        {
          "output_type": "stream",
          "name": "stdout",
          "text": [
            "World\n"
          ]
        }
      ]
    },
    {
      "cell_type": "code",
      "source": [
        "len(varList)\n"
      ],
      "metadata": {
        "colab": {
          "base_uri": "https://localhost:8080/"
        },
        "id": "eHEZpk7TB-nn",
        "outputId": "cbe2f99d-e4a4-4233-90e7-2b37e6c71e8e"
      },
      "execution_count": null,
      "outputs": [
        {
          "output_type": "execute_result",
          "data": {
            "text/plain": [
              "7"
            ]
          },
          "metadata": {},
          "execution_count": 43
        }
      ]
    },
    {
      "cell_type": "code",
      "source": [
        "print(varList[5])"
      ],
      "metadata": {
        "id": "UFW8W0_UHX0H"
      },
      "execution_count": null,
      "outputs": []
    },
    {
      "cell_type": "code",
      "source": [
        "varList.remove(pi)\n",
        "print(varList[5])"
      ],
      "metadata": {
        "id": "MKO-0L6YHbCt"
      },
      "execution_count": null,
      "outputs": []
    },
    {
      "cell_type": "markdown",
      "source": [
        "#  **7).Dictionary**"
      ],
      "metadata": {
        "id": "cUKzUIEaCUC3"
      }
    },
    {
      "cell_type": "code",
      "source": [
        "var =\"Hello World!\"\n",
        "varDict = {'first' : 123, 2 : 'abc', '3' : var, 4 : ['a','b','c']}\n",
        "print(varDict['first'])"
      ],
      "metadata": {
        "colab": {
          "base_uri": "https://localhost:8080/"
        },
        "id": "4enzpOv6CeD4",
        "outputId": "f03ab61c-4d44-45ed-e875-49e10672bd49"
      },
      "execution_count": null,
      "outputs": [
        {
          "output_type": "stream",
          "name": "stdout",
          "text": [
            "123\n"
          ]
        }
      ]
    },
    {
      "cell_type": "code",
      "source": [
        "print(varDict[2])"
      ],
      "metadata": {
        "colab": {
          "base_uri": "https://localhost:8080/"
        },
        "id": "9YR6KrqrCtQm",
        "outputId": "9b474b0d-890f-4a1d-8386-e9887e32db2f"
      },
      "execution_count": null,
      "outputs": [
        {
          "output_type": "stream",
          "name": "stdout",
          "text": [
            "abc\n"
          ]
        }
      ]
    },
    {
      "cell_type": "code",
      "source": [
        "print(varDict['3'])"
      ],
      "metadata": {
        "colab": {
          "base_uri": "https://localhost:8080/"
        },
        "id": "71cSby4DC3ff",
        "outputId": "e53f6c75-4132-40d1-ddfb-99fb19e97ae7"
      },
      "execution_count": null,
      "outputs": [
        {
          "output_type": "stream",
          "name": "stdout",
          "text": [
            "Hello World!\n"
          ]
        }
      ]
    },
    {
      "cell_type": "code",
      "source": [
        "print(varDict[4])"
      ],
      "metadata": {
        "colab": {
          "base_uri": "https://localhost:8080/"
        },
        "id": "wmiu81gqC7gv",
        "outputId": "6b8eaf83-77b9-4f7c-dac0-17dc84f84783"
      },
      "execution_count": null,
      "outputs": [
        {
          "output_type": "stream",
          "name": "stdout",
          "text": [
            "['a', 'b', 'c']\n"
          ]
        }
      ]
    },
    {
      "cell_type": "code",
      "source": [
        "print(varDict[4][1])"
      ],
      "metadata": {
        "colab": {
          "base_uri": "https://localhost:8080/"
        },
        "id": "KlVoaiViC9Jp",
        "outputId": "a1655c06-b381-4f05-ff53-aa7bcaedd9bb"
      },
      "execution_count": null,
      "outputs": [
        {
          "output_type": "stream",
          "name": "stdout",
          "text": [
            "b\n"
          ]
        }
      ]
    },
    {
      "cell_type": "code",
      "source": [
        "len(varDict)"
      ],
      "metadata": {
        "colab": {
          "base_uri": "https://localhost:8080/"
        },
        "id": "_xPoMzpZDAzG",
        "outputId": "1690187a-5cd8-41c2-d23a-078442088469"
      },
      "execution_count": null,
      "outputs": [
        {
          "output_type": "execute_result",
          "data": {
            "text/plain": [
              "3"
            ]
          },
          "metadata": {},
          "execution_count": 61
        }
      ]
    },
    {
      "cell_type": "markdown",
      "source": [
        "# **8). List Generators and Comprehension**"
      ],
      "metadata": {
        "id": "yTPIUHXYEoOe"
      }
    },
    {
      "cell_type": "code",
      "source": [
        "def gen_num_up_to(n):\n",
        "  num = 0\n",
        "  while num < n:\n",
        "    yield num\n",
        "    num += 1\n"
      ],
      "metadata": {
        "id": "smSHPX9jE4Mv"
      },
      "execution_count": null,
      "outputs": []
    },
    {
      "cell_type": "code",
      "source": [
        "gen_num_up_to(5)"
      ],
      "metadata": {
        "id": "f-4Er6CQE_iN"
      },
      "execution_count": null,
      "outputs": []
    },
    {
      "cell_type": "markdown",
      "source": [
        "**Note: This creates an object**"
      ],
      "metadata": {
        "id": "0iHifgBjFF7-"
      }
    },
    {
      "cell_type": "code",
      "source": [
        "varList = gen_num_up_to(5)\n",
        "print([var for var in varList])\n"
      ],
      "metadata": {
        "id": "yqjPVYf-FYl2"
      },
      "execution_count": null,
      "outputs": []
    },
    {
      "cell_type": "code",
      "source": [
        "def gen_num_up_to(n):\n",
        "  num = 0\n",
        "  while num < n:\n",
        "    yield num\n",
        "    num += 2\n",
        "\n",
        "varList = gen_num_up_to(5)\n",
        "print([var for var in varList])"
      ],
      "metadata": {
        "colab": {
          "base_uri": "https://localhost:8080/"
        },
        "id": "ObhtLxOqFbLG",
        "outputId": "407975d4-4361-41bc-a6d8-365ea32e4dcb"
      },
      "execution_count": null,
      "outputs": [
        {
          "output_type": "stream",
          "name": "stdout",
          "text": [
            "[0, 1, 2, 3, 4]\n"
          ]
        }
      ]
    },
    {
      "cell_type": "code",
      "source": [
        "varList = range(0,5,2)\n",
        "print([var for var in varList])"
      ],
      "metadata": {
        "colab": {
          "base_uri": "https://localhost:8080/"
        },
        "id": "Ar8jl1SfFftf",
        "outputId": "d235c557-a080-432e-c60d-510e257c5346"
      },
      "execution_count": null,
      "outputs": [
        {
          "output_type": "stream",
          "name": "stdout",
          "text": [
            "[0, 2, 4]\n"
          ]
        }
      ]
    },
    {
      "cell_type": "markdown",
      "source": [
        "**Note: Python's built in range function range([start],stop,[step])**"
      ],
      "metadata": {
        "id": "TUjb0MasFmWe"
      }
    },
    {
      "cell_type": "markdown",
      "source": [
        "## **Slicing**"
      ],
      "metadata": {
        "id": "SJm17MUcHiCt"
      }
    },
    {
      "cell_type": "code",
      "source": [
        "varList = [1,2,3,4,5,6,7,8,9,10]\n",
        "print(varList[:5])"
      ],
      "metadata": {
        "colab": {
          "base_uri": "https://localhost:8080/"
        },
        "id": "m73KrVR7H199",
        "outputId": "dc60e9eb-dbc2-43a9-9d6f-5246b9aa1225"
      },
      "execution_count": null,
      "outputs": [
        {
          "output_type": "stream",
          "name": "stdout",
          "text": [
            "[1, 2, 3, 4, 5]\n"
          ]
        }
      ]
    },
    {
      "cell_type": "code",
      "source": [
        "print(varList[5:])"
      ],
      "metadata": {
        "colab": {
          "base_uri": "https://localhost:8080/"
        },
        "id": "Qq-7vufxH9l3",
        "outputId": "7bcbab6f-f676-4b04-bf4c-f99e6399093d"
      },
      "execution_count": null,
      "outputs": [
        {
          "output_type": "stream",
          "name": "stdout",
          "text": [
            "[6, 7, 8, 9, 10]\n"
          ]
        }
      ]
    },
    {
      "cell_type": "code",
      "source": [
        "print(varList[:-2])"
      ],
      "metadata": {
        "id": "M28DcqbPIRwm"
      },
      "execution_count": null,
      "outputs": []
    },
    {
      "cell_type": "code",
      "source": [
        "print(varList[-2:])"
      ],
      "metadata": {
        "colab": {
          "base_uri": "https://localhost:8080/"
        },
        "id": "e-lMquQoIV1m",
        "outputId": "0af6a3a5-127d-45cf-e6cf-fad01fba0270"
      },
      "execution_count": null,
      "outputs": [
        {
          "output_type": "stream",
          "name": "stdout",
          "text": [
            "range(2, 6, 2)\n"
          ]
        }
      ]
    },
    {
      "cell_type": "code",
      "source": [
        "print(varList[2:-2])"
      ],
      "metadata": {
        "colab": {
          "base_uri": "https://localhost:8080/"
        },
        "id": "4JE2O8LVIgvu",
        "outputId": "94cc33c0-f49a-4c4a-f41c-20a79724d8e1"
      },
      "execution_count": null,
      "outputs": [
        {
          "output_type": "stream",
          "name": "stdout",
          "text": [
            "[3, 4, 5, 6, 7, 8]\n"
          ]
        }
      ]
    },
    {
      "cell_type": "code",
      "source": [
        "print(varList[2:8:2])"
      ],
      "metadata": {
        "colab": {
          "base_uri": "https://localhost:8080/"
        },
        "id": "kAwIhaAnIkle",
        "outputId": "c568d60b-0794-40eb-cd3f-e03c987c7d1c"
      },
      "execution_count": null,
      "outputs": [
        {
          "output_type": "stream",
          "name": "stdout",
          "text": [
            "[3, 5, 7]\n"
          ]
        }
      ]
    },
    {
      "cell_type": "markdown",
      "source": [
        "**Note: list(start:)\n",
        "        list(:end)\n",
        "        list(start :end)\n",
        "        list(start:end:step)**"
      ],
      "metadata": {
        "id": "d0QFa-FaIp7H"
      }
    },
    {
      "cell_type": "markdown",
      "source": [
        "# **9).Functions**"
      ],
      "metadata": {
        "id": "Fdey4L2vJRvu"
      }
    },
    {
      "cell_type": "code",
      "source": [
        "def remainder(n,m):\n",
        "  while True\n",
        "    if n-m<0:\n",
        "      return n\n",
        "    else\n",
        "      n=n-m\n",
        "remainder(10,4)\n"
      ],
      "metadata": {
        "id": "kguXF5X0JVVG"
      },
      "execution_count": null,
      "outputs": []
    }
  ]
}
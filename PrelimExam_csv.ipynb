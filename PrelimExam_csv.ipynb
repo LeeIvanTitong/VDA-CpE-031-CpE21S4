{
  "nbformat": 4,
  "nbformat_minor": 0,
  "metadata": {
    "colab": {
      "provenance": [],
      "include_colab_link": true
    },
    "kernelspec": {
      "name": "python3",
      "display_name": "Python 3"
    },
    "language_info": {
      "name": "python"
    }
  },
  "cells": [
    {
      "cell_type": "markdown",
      "metadata": {
        "id": "view-in-github",
        "colab_type": "text"
      },
      "source": [
        "<a href=\"https://colab.research.google.com/github/LeeIvanTitong/VDA-CpE-031-CpE21S4/blob/main/PrelimExam_csv.ipynb\" target=\"_parent\"><img src=\"https://colab.research.google.com/assets/colab-badge.svg\" alt=\"Open In Colab\"/></a>"
      ]
    },
    {
      "cell_type": "markdown",
      "source": [],
      "metadata": {
        "id": "hgH5hucH49cl"
      }
    },
    {
      "cell_type": "code",
      "source": [
        "import pandas as pd\n",
        "\n",
        "data = {'X':[78, 85, 96, 80, 86], 'Y':[84, 94, 89, 83, 86], 'Z':[86, 97, 96, 72, 83]}\n",
        "df = pd.DataFrame(data)\n",
        "print(df)\n"
      ],
      "metadata": {
        "colab": {
          "base_uri": "https://localhost:8080/"
        },
        "id": "ITJU4HpTFLeJ",
        "outputId": "411223de-c1a7-42fb-8ed5-2f7f0aaba7df"
      },
      "execution_count": null,
      "outputs": [
        {
          "output_type": "stream",
          "name": "stdout",
          "text": [
            "    X   Y   Z\n",
            "0  78  84  86\n",
            "1  85  94  97\n",
            "2  96  89  96\n",
            "3  80  83  72\n",
            "4  86  86  83\n"
          ]
        }
      ]
    },
    {
      "cell_type": "code",
      "source": [
        "import pandas as pd\n",
        "\n",
        "# Original DataFrame\n",
        "data = {\n",
        "    'col1': [1, 4, 3, 4, 5],\n",
        "    'col2': [4, 5, 6, 7, 8],\n",
        "    'col3': [7, 8, 9, 0, 1]\n",
        "}\n",
        "df = pd.DataFrame(data)\n",
        "print(\"Original DataFrame\")\n",
        "print(df)\n",
        "\n",
        "# Delete rows where col1 is 4\n",
        "df = df[df['col1'] != 4]\n",
        "print(\"\\nNew DataFrame\")\n",
        "print(df)\n",
        "\n"
      ],
      "metadata": {
        "colab": {
          "base_uri": "https://localhost:8080/"
        },
        "id": "z4WyKtFZIBCv",
        "outputId": "b0dd020c-939a-46f8-c011-fdc2f57c8da5"
      },
      "execution_count": 2,
      "outputs": [
        {
          "output_type": "stream",
          "name": "stdout",
          "text": [
            "Original DataFrame\n",
            "   col1  col2  col3\n",
            "0     1     4     7\n",
            "1     4     5     8\n",
            "2     3     6     9\n",
            "3     4     7     0\n",
            "4     5     8     1\n",
            "\n",
            "New DataFrame\n",
            "   col1  col2  col3\n",
            "0     1     4     7\n",
            "2     3     6     9\n",
            "4     5     8     1\n"
          ]
        }
      ]
    },
    {
      "cell_type": "code",
      "source": [
        "import pandas as pd\n",
        "\n",
        "# Creating the data as a dictionary\n",
        "data = {\n",
        "    \"Computer ID\": [1, 2, 3, 4, 5],\n",
        "    \"Brand\": [\"Dell\", \"HP\", \"Apple\", \"Lenovo\", \"Asus\"],\n",
        "    \"Model\": [\"XPS 13\", \"Pavilion 15\", \"MacBook Pro\", \"ThinkPad X1\", \"ZenBook 14\"],\n",
        "    \"Processor\": [\"Intel i7\", \"AMD Ryzen 5\", \"Apple M1\", \"Intel i9\", \"Intel i5\"],\n",
        "    \"RAM (GB)\": [16, 8, 16, 32, 16],\n",
        "    \"Storage (GB)\": [512, 256, 1024, 512, 512],\n",
        "    \"Graphics Card\": [\"Intel Iris Xe\", \"AMD Radeon\", \"Apple Integrated\", \"NVIDIA GTX 1650\", \"NVIDIA MX250\"],\n",
        "    \"Price ($)\": [1200, 800, 2400, 1800, 1000]\n",
        "}\n",
        "\n",
        "# Loading the data into a DataFrame\n",
        "df = pd.DataFrame(data)\n",
        "\n",
        "# Viewing the data in a tabulated form\n",
        "print(df)\n"
      ],
      "metadata": {
        "colab": {
          "base_uri": "https://localhost:8080/"
        },
        "id": "Ie2lXtfPICnf",
        "outputId": "352d5db6-0f3b-4b00-9f58-baf4e011e0ef"
      },
      "execution_count": 3,
      "outputs": [
        {
          "output_type": "stream",
          "name": "stdout",
          "text": [
            "   Computer ID   Brand        Model    Processor  RAM (GB)  Storage (GB)  \\\n",
            "0            1    Dell       XPS 13     Intel i7        16           512   \n",
            "1            2      HP  Pavilion 15  AMD Ryzen 5         8           256   \n",
            "2            3   Apple  MacBook Pro     Apple M1        16          1024   \n",
            "3            4  Lenovo  ThinkPad X1     Intel i9        32           512   \n",
            "4            5    Asus   ZenBook 14     Intel i5        16           512   \n",
            "\n",
            "      Graphics Card  Price ($)  \n",
            "0     Intel Iris Xe       1200  \n",
            "1        AMD Radeon        800  \n",
            "2  Apple Integrated       2400  \n",
            "3   NVIDIA GTX 1650       1800  \n",
            "4      NVIDIA MX250       1000  \n"
          ]
        }
      ]
    }
  ]
}